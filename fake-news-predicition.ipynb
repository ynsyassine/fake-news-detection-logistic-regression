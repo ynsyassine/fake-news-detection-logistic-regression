{
 "cells": [
  {
   "cell_type": "markdown",
   "id": "f40972ea",
   "metadata": {},
   "source": [
    "About the Dataset :\n",
    "1. id:unique id for a news article \n",
    "2. title: the title of a news article \n",
    "3. author : author of the news article \n",
    "4. text : the text of the article ; could be incomplete \n",
    "5. label :a label that marks whether the news article is real or fake "
   ]
  },
  {
   "cell_type": "code",
   "execution_count": 1,
   "id": "2cc05d94",
   "metadata": {},
   "outputs": [],
   "source": [
    "# 1 : Fake news \n",
    "# 0: real news "
   ]
  },
  {
   "cell_type": "markdown",
   "id": "545690e7",
   "metadata": {},
   "source": [
    "importing the Dependnecies "
   ]
  },
  {
   "cell_type": "code",
   "execution_count": 2,
   "id": "9512f6aa",
   "metadata": {},
   "outputs": [],
   "source": [
    "import numpy as np \n",
    "import pandas as pd\n",
    "import re\n",
    "from nltk.corpus import stopwords \n",
    "from nltk.stem.porter import PorterStemmer\n",
    "from sklearn.feature_extraction.text import TfidfVectorizer\n",
    "from sklearn.model_selection import train_test_split\n",
    "from sklearn.linear_model import LogisticRegression\n",
    "from sklearn.metrics import accuracy_score"
   ]
  },
  {
   "cell_type": "code",
   "execution_count": 3,
   "id": "9c23f912",
   "metadata": {},
   "outputs": [
    {
     "name": "stdout",
     "output_type": "stream",
     "text": [
      "['i', 'me', 'my', 'myself', 'we', 'our', 'ours', 'ourselves', 'you', \"you're\", \"you've\", \"you'll\", \"you'd\", 'your', 'yours', 'yourself', 'yourselves', 'he', 'him', 'his', 'himself', 'she', \"she's\", 'her', 'hers', 'herself', 'it', \"it's\", 'its', 'itself', 'they', 'them', 'their', 'theirs', 'themselves', 'what', 'which', 'who', 'whom', 'this', 'that', \"that'll\", 'these', 'those', 'am', 'is', 'are', 'was', 'were', 'be', 'been', 'being', 'have', 'has', 'had', 'having', 'do', 'does', 'did', 'doing', 'a', 'an', 'the', 'and', 'but', 'if', 'or', 'because', 'as', 'until', 'while', 'of', 'at', 'by', 'for', 'with', 'about', 'against', 'between', 'into', 'through', 'during', 'before', 'after', 'above', 'below', 'to', 'from', 'up', 'down', 'in', 'out', 'on', 'off', 'over', 'under', 'again', 'further', 'then', 'once', 'here', 'there', 'when', 'where', 'why', 'how', 'all', 'any', 'both', 'each', 'few', 'more', 'most', 'other', 'some', 'such', 'no', 'nor', 'not', 'only', 'own', 'same', 'so', 'than', 'too', 'very', 's', 't', 'can', 'will', 'just', 'don', \"don't\", 'should', \"should've\", 'now', 'd', 'll', 'm', 'o', 're', 've', 'y', 'ain', 'aren', \"aren't\", 'couldn', \"couldn't\", 'didn', \"didn't\", 'doesn', \"doesn't\", 'hadn', \"hadn't\", 'hasn', \"hasn't\", 'haven', \"haven't\", 'isn', \"isn't\", 'ma', 'mightn', \"mightn't\", 'mustn', \"mustn't\", 'needn', \"needn't\", 'shan', \"shan't\", 'shouldn', \"shouldn't\", 'wasn', \"wasn't\", 'weren', \"weren't\", 'won', \"won't\", 'wouldn', \"wouldn't\"]\n"
     ]
    },
    {
     "name": "stderr",
     "output_type": "stream",
     "text": [
      "[nltk_data] Downloading package stopwords to\n",
      "[nltk_data]     /home/yassine/nltk_data...\n",
      "[nltk_data]   Package stopwords is already up-to-date!\n"
     ]
    }
   ],
   "source": [
    "# import the stopwords \n",
    "import nltk \n",
    "nltk.download(\"stopwords\")\n",
    "# printing the stopwords in english \n",
    "print(stopwords.words(\"english\"))\n",
    "#print(stopwords.words(\"arabic\"))"
   ]
  },
  {
   "cell_type": "markdown",
   "id": "8aa5b7f9",
   "metadata": {},
   "source": [
    " ## PREPROCESING THE DATA "
   ]
  },
  {
   "cell_type": "code",
   "execution_count": 4,
   "id": "71cdf3c2",
   "metadata": {},
   "outputs": [],
   "source": [
    "news_data = pd.read_csv(\"train.csv\" )"
   ]
  },
  {
   "cell_type": "code",
   "execution_count": 5,
   "id": "5dd3ab04",
   "metadata": {},
   "outputs": [
    {
     "data": {
      "text/plain": [
       "(20800, 5)"
      ]
     },
     "execution_count": 5,
     "metadata": {},
     "output_type": "execute_result"
    }
   ],
   "source": [
    "# check the shape of  our df : \n",
    "news_data.shape"
   ]
  },
  {
   "cell_type": "code",
   "execution_count": 6,
   "id": "7a5d0042",
   "metadata": {},
   "outputs": [
    {
     "data": {
      "text/html": [
       "<div>\n",
       "<style scoped>\n",
       "    .dataframe tbody tr th:only-of-type {\n",
       "        vertical-align: middle;\n",
       "    }\n",
       "\n",
       "    .dataframe tbody tr th {\n",
       "        vertical-align: top;\n",
       "    }\n",
       "\n",
       "    .dataframe thead th {\n",
       "        text-align: right;\n",
       "    }\n",
       "</style>\n",
       "<table border=\"1\" class=\"dataframe\">\n",
       "  <thead>\n",
       "    <tr style=\"text-align: right;\">\n",
       "      <th></th>\n",
       "      <th>id</th>\n",
       "      <th>title</th>\n",
       "      <th>author</th>\n",
       "      <th>text</th>\n",
       "      <th>label</th>\n",
       "    </tr>\n",
       "  </thead>\n",
       "  <tbody>\n",
       "    <tr>\n",
       "      <th>0</th>\n",
       "      <td>0</td>\n",
       "      <td>House Dem Aide: We Didn’t Even See Comey’s Let...</td>\n",
       "      <td>Darrell Lucus</td>\n",
       "      <td>House Dem Aide: We Didn’t Even See Comey’s Let...</td>\n",
       "      <td>1</td>\n",
       "    </tr>\n",
       "    <tr>\n",
       "      <th>1</th>\n",
       "      <td>1</td>\n",
       "      <td>FLYNN: Hillary Clinton, Big Woman on Campus - ...</td>\n",
       "      <td>Daniel J. Flynn</td>\n",
       "      <td>Ever get the feeling your life circles the rou...</td>\n",
       "      <td>0</td>\n",
       "    </tr>\n",
       "    <tr>\n",
       "      <th>2</th>\n",
       "      <td>2</td>\n",
       "      <td>Why the Truth Might Get You Fired</td>\n",
       "      <td>Consortiumnews.com</td>\n",
       "      <td>Why the Truth Might Get You Fired October 29, ...</td>\n",
       "      <td>1</td>\n",
       "    </tr>\n",
       "    <tr>\n",
       "      <th>3</th>\n",
       "      <td>3</td>\n",
       "      <td>15 Civilians Killed In Single US Airstrike Hav...</td>\n",
       "      <td>Jessica Purkiss</td>\n",
       "      <td>Videos 15 Civilians Killed In Single US Airstr...</td>\n",
       "      <td>1</td>\n",
       "    </tr>\n",
       "    <tr>\n",
       "      <th>4</th>\n",
       "      <td>4</td>\n",
       "      <td>Iranian woman jailed for fictional unpublished...</td>\n",
       "      <td>Howard Portnoy</td>\n",
       "      <td>Print \\nAn Iranian woman has been sentenced to...</td>\n",
       "      <td>1</td>\n",
       "    </tr>\n",
       "  </tbody>\n",
       "</table>\n",
       "</div>"
      ],
      "text/plain": [
       "   id                                              title              author  \\\n",
       "0   0  House Dem Aide: We Didn’t Even See Comey’s Let...       Darrell Lucus   \n",
       "1   1  FLYNN: Hillary Clinton, Big Woman on Campus - ...     Daniel J. Flynn   \n",
       "2   2                  Why the Truth Might Get You Fired  Consortiumnews.com   \n",
       "3   3  15 Civilians Killed In Single US Airstrike Hav...     Jessica Purkiss   \n",
       "4   4  Iranian woman jailed for fictional unpublished...      Howard Portnoy   \n",
       "\n",
       "                                                text  label  \n",
       "0  House Dem Aide: We Didn’t Even See Comey’s Let...      1  \n",
       "1  Ever get the feeling your life circles the rou...      0  \n",
       "2  Why the Truth Might Get You Fired October 29, ...      1  \n",
       "3  Videos 15 Civilians Killed In Single US Airstr...      1  \n",
       "4  Print \\nAn Iranian woman has been sentenced to...      1  "
      ]
     },
     "execution_count": 6,
     "metadata": {},
     "output_type": "execute_result"
    }
   ],
   "source": [
    "#print the head of the data set \n",
    "news_data.head()"
   ]
  },
  {
   "cell_type": "code",
   "execution_count": 7,
   "id": "f5904428",
   "metadata": {},
   "outputs": [
    {
     "data": {
      "text/plain": [
       "id           0\n",
       "title      558\n",
       "author    1957\n",
       "text        39\n",
       "label        0\n",
       "dtype: int64"
      ]
     },
     "execution_count": 7,
     "metadata": {},
     "output_type": "execute_result"
    }
   ],
   "source": [
    "# counting the number of the missing values : \n",
    "news_data.isnull().sum()"
   ]
  },
  {
   "cell_type": "code",
   "execution_count": 8,
   "id": "165073c0",
   "metadata": {},
   "outputs": [
    {
     "data": {
      "text/html": [
       "<div>\n",
       "<style scoped>\n",
       "    .dataframe tbody tr th:only-of-type {\n",
       "        vertical-align: middle;\n",
       "    }\n",
       "\n",
       "    .dataframe tbody tr th {\n",
       "        vertical-align: top;\n",
       "    }\n",
       "\n",
       "    .dataframe thead th {\n",
       "        text-align: right;\n",
       "    }\n",
       "</style>\n",
       "<table border=\"1\" class=\"dataframe\">\n",
       "  <thead>\n",
       "    <tr style=\"text-align: right;\">\n",
       "      <th></th>\n",
       "      <th>id</th>\n",
       "      <th>title</th>\n",
       "      <th>author</th>\n",
       "      <th>text</th>\n",
       "      <th>label</th>\n",
       "    </tr>\n",
       "  </thead>\n",
       "  <tbody>\n",
       "    <tr>\n",
       "      <th>0</th>\n",
       "      <td>0</td>\n",
       "      <td>House Dem Aide: We Didn’t Even See Comey’s Let...</td>\n",
       "      <td>Darrell Lucus</td>\n",
       "      <td>House Dem Aide: We Didn’t Even See Comey’s Let...</td>\n",
       "      <td>1</td>\n",
       "    </tr>\n",
       "    <tr>\n",
       "      <th>1</th>\n",
       "      <td>1</td>\n",
       "      <td>FLYNN: Hillary Clinton, Big Woman on Campus - ...</td>\n",
       "      <td>Daniel J. Flynn</td>\n",
       "      <td>Ever get the feeling your life circles the rou...</td>\n",
       "      <td>0</td>\n",
       "    </tr>\n",
       "    <tr>\n",
       "      <th>2</th>\n",
       "      <td>2</td>\n",
       "      <td>Why the Truth Might Get You Fired</td>\n",
       "      <td>Consortiumnews.com</td>\n",
       "      <td>Why the Truth Might Get You Fired October 29, ...</td>\n",
       "      <td>1</td>\n",
       "    </tr>\n",
       "    <tr>\n",
       "      <th>3</th>\n",
       "      <td>3</td>\n",
       "      <td>15 Civilians Killed In Single US Airstrike Hav...</td>\n",
       "      <td>Jessica Purkiss</td>\n",
       "      <td>Videos 15 Civilians Killed In Single US Airstr...</td>\n",
       "      <td>1</td>\n",
       "    </tr>\n",
       "    <tr>\n",
       "      <th>4</th>\n",
       "      <td>4</td>\n",
       "      <td>Iranian woman jailed for fictional unpublished...</td>\n",
       "      <td>Howard Portnoy</td>\n",
       "      <td>Print \\nAn Iranian woman has been sentenced to...</td>\n",
       "      <td>1</td>\n",
       "    </tr>\n",
       "    <tr>\n",
       "      <th>...</th>\n",
       "      <td>...</td>\n",
       "      <td>...</td>\n",
       "      <td>...</td>\n",
       "      <td>...</td>\n",
       "      <td>...</td>\n",
       "    </tr>\n",
       "    <tr>\n",
       "      <th>20795</th>\n",
       "      <td>20795</td>\n",
       "      <td>Rapper T.I.: Trump a ’Poster Child For White S...</td>\n",
       "      <td>Jerome Hudson</td>\n",
       "      <td>Rapper T. I. unloaded on black celebrities who...</td>\n",
       "      <td>0</td>\n",
       "    </tr>\n",
       "    <tr>\n",
       "      <th>20796</th>\n",
       "      <td>20796</td>\n",
       "      <td>N.F.L. Playoffs: Schedule, Matchups and Odds -...</td>\n",
       "      <td>Benjamin Hoffman</td>\n",
       "      <td>When the Green Bay Packers lost to the Washing...</td>\n",
       "      <td>0</td>\n",
       "    </tr>\n",
       "    <tr>\n",
       "      <th>20797</th>\n",
       "      <td>20797</td>\n",
       "      <td>Macy’s Is Said to Receive Takeover Approach by...</td>\n",
       "      <td>Michael J. de la Merced and Rachel Abrams</td>\n",
       "      <td>The Macy’s of today grew from the union of sev...</td>\n",
       "      <td>0</td>\n",
       "    </tr>\n",
       "    <tr>\n",
       "      <th>20798</th>\n",
       "      <td>20798</td>\n",
       "      <td>NATO, Russia To Hold Parallel Exercises In Bal...</td>\n",
       "      <td>Alex Ansary</td>\n",
       "      <td>NATO, Russia To Hold Parallel Exercises In Bal...</td>\n",
       "      <td>1</td>\n",
       "    </tr>\n",
       "    <tr>\n",
       "      <th>20799</th>\n",
       "      <td>20799</td>\n",
       "      <td>What Keeps the F-35 Alive</td>\n",
       "      <td>David Swanson</td>\n",
       "      <td>David Swanson is an author, activist, journa...</td>\n",
       "      <td>1</td>\n",
       "    </tr>\n",
       "  </tbody>\n",
       "</table>\n",
       "<p>20800 rows × 5 columns</p>\n",
       "</div>"
      ],
      "text/plain": [
       "          id                                              title  \\\n",
       "0          0  House Dem Aide: We Didn’t Even See Comey’s Let...   \n",
       "1          1  FLYNN: Hillary Clinton, Big Woman on Campus - ...   \n",
       "2          2                  Why the Truth Might Get You Fired   \n",
       "3          3  15 Civilians Killed In Single US Airstrike Hav...   \n",
       "4          4  Iranian woman jailed for fictional unpublished...   \n",
       "...      ...                                                ...   \n",
       "20795  20795  Rapper T.I.: Trump a ’Poster Child For White S...   \n",
       "20796  20796  N.F.L. Playoffs: Schedule, Matchups and Odds -...   \n",
       "20797  20797  Macy’s Is Said to Receive Takeover Approach by...   \n",
       "20798  20798  NATO, Russia To Hold Parallel Exercises In Bal...   \n",
       "20799  20799                          What Keeps the F-35 Alive   \n",
       "\n",
       "                                          author  \\\n",
       "0                                  Darrell Lucus   \n",
       "1                                Daniel J. Flynn   \n",
       "2                             Consortiumnews.com   \n",
       "3                                Jessica Purkiss   \n",
       "4                                 Howard Portnoy   \n",
       "...                                          ...   \n",
       "20795                              Jerome Hudson   \n",
       "20796                           Benjamin Hoffman   \n",
       "20797  Michael J. de la Merced and Rachel Abrams   \n",
       "20798                                Alex Ansary   \n",
       "20799                              David Swanson   \n",
       "\n",
       "                                                    text  label  \n",
       "0      House Dem Aide: We Didn’t Even See Comey’s Let...      1  \n",
       "1      Ever get the feeling your life circles the rou...      0  \n",
       "2      Why the Truth Might Get You Fired October 29, ...      1  \n",
       "3      Videos 15 Civilians Killed In Single US Airstr...      1  \n",
       "4      Print \\nAn Iranian woman has been sentenced to...      1  \n",
       "...                                                  ...    ...  \n",
       "20795  Rapper T. I. unloaded on black celebrities who...      0  \n",
       "20796  When the Green Bay Packers lost to the Washing...      0  \n",
       "20797  The Macy’s of today grew from the union of sev...      0  \n",
       "20798  NATO, Russia To Hold Parallel Exercises In Bal...      1  \n",
       "20799    David Swanson is an author, activist, journa...      1  \n",
       "\n",
       "[20800 rows x 5 columns]"
      ]
     },
     "execution_count": 8,
     "metadata": {},
     "output_type": "execute_result"
    }
   ],
   "source": [
    "# replacing  the null  values with empty string : \n",
    "news_data.fillna(\"\")"
   ]
  },
  {
   "cell_type": "code",
   "execution_count": 9,
   "id": "53fac074",
   "metadata": {},
   "outputs": [],
   "source": [
    "#concatenate the title & author name : \n",
    "news_data[\"content\"] = news_data[\"author\"] + \"  \"+news_data[\"title\"]"
   ]
  },
  {
   "cell_type": "code",
   "execution_count": 10,
   "id": "69311234",
   "metadata": {},
   "outputs": [
    {
     "data": {
      "text/plain": [
       "0        Darrell Lucus  House Dem Aide: We Didn’t Even ...\n",
       "1        Daniel J. Flynn  FLYNN: Hillary Clinton, Big W...\n",
       "2        Consortiumnews.com  Why the Truth Might Get Yo...\n",
       "3        Jessica Purkiss  15 Civilians Killed In Single...\n",
       "4        Howard Portnoy  Iranian woman jailed for ficti...\n",
       "                               ...                        \n",
       "20795    Jerome Hudson  Rapper T.I.: Trump a ’Poster Ch...\n",
       "20796    Benjamin Hoffman  N.F.L. Playoffs: Schedule, M...\n",
       "20797    Michael J. de la Merced and Rachel Abrams  Mac...\n",
       "20798    Alex Ansary  NATO, Russia To Hold Parallel Exe...\n",
       "20799             David Swanson  What Keeps the F-35 Alive\n",
       "Name: content, Length: 20800, dtype: object"
      ]
     },
     "execution_count": 10,
     "metadata": {},
     "output_type": "execute_result"
    }
   ],
   "source": [
    "news_data[\"content\"]"
   ]
  },
  {
   "cell_type": "code",
   "execution_count": 12,
   "id": "c4c668e8",
   "metadata": {},
   "outputs": [],
   "source": [
    "# Separate the data and the label  : \n",
    "X = news_data.drop(\"label\" , axis = 1 )\n",
    "y =  news_data[\"label\"]"
   ]
  },
  {
   "cell_type": "code",
   "execution_count": 13,
   "id": "c501d986",
   "metadata": {},
   "outputs": [],
   "source": [
    "port_stem  = PorterStemmer()"
   ]
  },
  {
   "cell_type": "markdown",
   "id": "74afb1c5",
   "metadata": {},
   "source": [
    "Stremming : \n",
    "Stemming is the process of reducing a word to its root word : \n",
    "Exemple : Running --> run "
   ]
  },
  {
   "cell_type": "code",
   "execution_count": 19,
   "id": "37db1f8b",
   "metadata": {},
   "outputs": [],
   "source": [
    "def stemming(content):\n",
    "    stemmed_content  = re.sub(\"[^a-zA-Z]\",\" \", str(content))\n",
    "    stemmed_content = stemmed_content.lower()\n",
    "    stemmed_content = stemmed_content.split()\n",
    "    stemmed_content = [port_stem.stem(word) for word in stemmed_content if not word in stopwords.words(\"english\")]\n",
    "    stemmed_content = \" \".join(stemmed_content)\n",
    "    return stemmed_content"
   ]
  },
  {
   "cell_type": "code",
   "execution_count": 20,
   "id": "c1d8d777",
   "metadata": {},
   "outputs": [],
   "source": [
    "news_data[\"content\"] = news_data[\"content\"].apply(stemming)"
   ]
  },
  {
   "cell_type": "code",
   "execution_count": 21,
   "id": "8f382bb7",
   "metadata": {},
   "outputs": [],
   "source": [
    "#reseparating the data while using only content and label: \n",
    "X = news_data[\"content\"]\n",
    "y = news_data[\"label\"]"
   ]
  },
  {
   "cell_type": "code",
   "execution_count": 22,
   "id": "c71c5ce2",
   "metadata": {},
   "outputs": [],
   "source": [
    "#converting the textual data to numerical data \n",
    "vectorizer  = TfidfVectorizer()\n",
    "vectorizer.fit(X)\n",
    "X = vectorizer.transform(X)"
   ]
  },
  {
   "cell_type": "code",
   "execution_count": 24,
   "id": "2e3cfd10",
   "metadata": {},
   "outputs": [
    {
     "name": "stdout",
     "output_type": "stream",
     "text": [
      "  (0, 14627)\t0.28553358349485225\n",
      "  (0, 12568)\t0.2563589820798857\n",
      "  (0, 8310)\t0.3596536533885757\n",
      "  (0, 8048)\t0.2934713957861362\n",
      "  (0, 7190)\t0.24644399370485162\n",
      "  (0, 6552)\t0.21885788468666617\n",
      "  (0, 4637)\t0.23132772852542255\n",
      "  (0, 3543)\t0.2689082732577136\n",
      "  (0, 3359)\t0.3596536533885757\n",
      "  (0, 2757)\t0.24749629983427848\n",
      "  (0, 2312)\t0.37305738773975167\n",
      "  (0, 247)\t0.2702588721108487\n",
      "  (1, 15664)\t0.30543189988638736\n",
      "  (1, 6377)\t0.19530026425832656\n",
      "  (1, 5140)\t0.7101106653194483\n",
      "  (1, 3328)\t0.2633913741576576\n",
      "  (1, 2619)\t0.19610930415709218\n",
      "  (1, 2066)\t0.38047138877486064\n",
      "  (1, 1764)\t0.15430291936631466\n",
      "  (1, 1391)\t0.29649664509588236\n",
      "  (2, 14561)\t0.41792081528179686\n",
      "  (2, 8973)\t0.4931379270922205\n",
      "  (2, 5579)\t0.35039256210774505\n",
      "  (2, 5031)\t0.3876367834516749\n",
      "  (2, 2895)\t0.4571578367807032\n",
      "  :\t:\n",
      "  (20797, 12240)\t0.25299971331630106\n",
      "  (20797, 11516)\t0.2746816397264756\n",
      "  (20797, 11322)\t0.2462639038918503\n",
      "  (20797, 9606)\t0.08009780291419748\n",
      "  (20797, 8942)\t0.17302467550398123\n",
      "  (20797, 8879)\t0.292493019757073\n",
      "  (20797, 8382)\t0.35802543553428934\n",
      "  (20797, 7798)\t0.22760347584373286\n",
      "  (20797, 6585)\t0.21604144367950015\n",
      "  (20797, 3399)\t0.2179965424436685\n",
      "  (20797, 1194)\t0.3320572140606986\n",
      "  (20797, 651)\t0.30850687822162\n",
      "  (20797, 37)\t0.2996507560086082\n",
      "  (20798, 12166)\t0.23487146256826144\n",
      "  (20798, 10307)\t0.4400320588550197\n",
      "  (20798, 9489)\t0.3261305004793528\n",
      "  (20798, 6445)\t0.3261305004793528\n",
      "  (20798, 4689)\t0.40285915853677656\n",
      "  (20798, 1045)\t0.45055246668763815\n",
      "  (20798, 547)\t0.3070142935620034\n",
      "  (20798, 325)\t0.28095226152921576\n",
      "  (20799, 13853)\t0.5634148492494173\n",
      "  (20799, 7500)\t0.45842491055171847\n",
      "  (20799, 3380)\t0.37942335884890926\n",
      "  (20799, 350)\t0.5731040252787596\n"
     ]
    }
   ],
   "source": [
    "print(X)"
   ]
  },
  {
   "cell_type": "code",
   "execution_count": 25,
   "id": "26695f51",
   "metadata": {},
   "outputs": [],
   "source": [
    "#spliting the data into training data and test data : \n",
    "X_train , X_test , y_train , y_test = train_test_split(X ,y , test_size=0.2 , random_state=42 , stratify=y)"
   ]
  },
  {
   "cell_type": "markdown",
   "id": "f5877833",
   "metadata": {},
   "source": [
    "## training the Model : Logistic regression "
   ]
  },
  {
   "cell_type": "code",
   "execution_count": 26,
   "id": "cc574098",
   "metadata": {},
   "outputs": [
    {
     "data": {
      "text/plain": [
       "LogisticRegression()"
      ]
     },
     "execution_count": 26,
     "metadata": {},
     "output_type": "execute_result"
    }
   ],
   "source": [
    "#instanciate the model \n",
    "cls = LogisticRegression()\n",
    "#fit the data to the model \n",
    "cls.fit(X_train , y_train)\n"
   ]
  },
  {
   "cell_type": "code",
   "execution_count": 27,
   "id": "5874dcdb",
   "metadata": {},
   "outputs": [
    {
     "data": {
      "text/plain": [
       "0.9908052884615385"
      ]
     },
     "execution_count": 27,
     "metadata": {},
     "output_type": "execute_result"
    }
   ],
   "source": [
    "#evaluated the model : \n",
    "cls.score(X_train , y_train)"
   ]
  },
  {
   "cell_type": "code",
   "execution_count": 28,
   "id": "b70841cd",
   "metadata": {},
   "outputs": [
    {
     "data": {
      "text/plain": [
       "0.9798076923076923"
      ]
     },
     "execution_count": 28,
     "metadata": {},
     "output_type": "execute_result"
    }
   ],
   "source": [
    "#evaluated the model : \n",
    "cls.score(X_test, y_test)"
   ]
  },
  {
   "cell_type": "code",
   "execution_count": null,
   "id": "8664d743",
   "metadata": {},
   "outputs": [],
   "source": []
  }
 ],
 "metadata": {
  "kernelspec": {
   "display_name": "Python 3 (ipykernel)",
   "language": "python",
   "name": "python3"
  },
  "language_info": {
   "codemirror_mode": {
    "name": "ipython",
    "version": 3
   },
   "file_extension": ".py",
   "mimetype": "text/x-python",
   "name": "python",
   "nbconvert_exporter": "python",
   "pygments_lexer": "ipython3",
   "version": "3.9.15"
  }
 },
 "nbformat": 4,
 "nbformat_minor": 5
}
